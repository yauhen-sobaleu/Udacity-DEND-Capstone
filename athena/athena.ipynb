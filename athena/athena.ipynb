{
 "cells": [
  {
   "cell_type": "markdown",
   "metadata": {},
   "source": [
    "Install and import pyathena package"
   ]
  },
  {
   "cell_type": "code",
   "execution_count": null,
   "metadata": {},
   "outputs": [],
   "source": [
    "!pip install pyathena"
   ]
  },
  {
   "cell_type": "code",
   "execution_count": 4,
   "metadata": {},
   "outputs": [],
   "source": [
    "from pyathena import connect\n",
    "import pandas as pd"
   ]
  },
  {
   "cell_type": "code",
   "execution_count": 32,
   "metadata": {},
   "outputs": [],
   "source": [
    "with open(\"../src/main/resources/application.conf\", \"r\") as ins:\n",
    "    config = dict([line.replace(\"\\n\", '').replace('spark.', '').split(\"=\") for line in ins])"
   ]
  },
  {
   "cell_type": "code",
   "execution_count": 33,
   "metadata": {},
   "outputs": [],
   "source": [
    "conn_athena = connect(aws_access_key_id=config['awskey'],\n",
    "           aws_secret_access_key=config['awssecret'],\n",
    "           s3_staging_dir='s3://capstonedend/',\n",
    "           region_name=\"eu-west-1\")"
   ]
  },
  {
   "cell_type": "markdown",
   "metadata": {},
   "source": [
    "Create all Amazon Athena tables"
   ]
  },
  {
   "cell_type": "code",
   "execution_count": 3,
   "metadata": {},
   "outputs": [
    {
     "name": "stdout",
     "output_type": "stream",
     "text": [
      "Root buckets is: s3://capstonedend/\n",
      "Athena database name is: capstone\n",
      "Athena logs output path is: s3://capstonedend/athena_logs/\n",
      "Creating sources table\n",
      "Table sources has been created\n",
      "Creating reporters table\n",
      "Table reporters has been created\n",
      "Creating fire_names table\n",
      "Table fire_names has been created\n",
      "Creating fire_causes table\n",
      "Table fire_causes has been created\n",
      "Creating fire_sizes table\n",
      "Table fire_sizes has been created\n",
      "Creating owners table\n",
      "Table owners has been created\n",
      "Creating locations table\n",
      "Table locations has been created\n",
      "Creating dates table\n",
      "Table dates has been created\n",
      "Creating weather_types table\n",
      "Table weather_types has been created\n",
      "Creating fires_fact table\n",
      "Table fires_fact has been created\n",
      "Creating weather_fact table\n",
      "Table weather_fact has been created\n"
     ]
    }
   ],
   "source": [
    "!python create_athenadb.py"
   ]
  },
  {
   "cell_type": "markdown",
   "metadata": {},
   "source": [
    "### Data Quality check"
   ]
  },
  {
   "cell_type": "code",
   "execution_count": 34,
   "metadata": {},
   "outputs": [
    {
     "data": {
      "text/html": [
       "<div>\n",
       "<style scoped>\n",
       "    .dataframe tbody tr th:only-of-type {\n",
       "        vertical-align: middle;\n",
       "    }\n",
       "\n",
       "    .dataframe tbody tr th {\n",
       "        vertical-align: top;\n",
       "    }\n",
       "\n",
       "    .dataframe thead th {\n",
       "        text-align: right;\n",
       "    }\n",
       "</style>\n",
       "<table border=\"1\" class=\"dataframe\">\n",
       "  <thead>\n",
       "    <tr style=\"text-align: right;\">\n",
       "      <th></th>\n",
       "      <th>table_name</th>\n",
       "      <th>count</th>\n",
       "    </tr>\n",
       "  </thead>\n",
       "  <tbody>\n",
       "    <tr>\n",
       "      <th>0</th>\n",
       "      <td>sources</td>\n",
       "      <td>0</td>\n",
       "    </tr>\n",
       "    <tr>\n",
       "      <th>1</th>\n",
       "      <td>fires_fact</td>\n",
       "      <td>0</td>\n",
       "    </tr>\n",
       "    <tr>\n",
       "      <th>2</th>\n",
       "      <td>weather_types</td>\n",
       "      <td>0</td>\n",
       "    </tr>\n",
       "    <tr>\n",
       "      <th>3</th>\n",
       "      <td>weather_fact</td>\n",
       "      <td>0</td>\n",
       "    </tr>\n",
       "    <tr>\n",
       "      <th>4</th>\n",
       "      <td>fire_causes</td>\n",
       "      <td>0</td>\n",
       "    </tr>\n",
       "    <tr>\n",
       "      <th>5</th>\n",
       "      <td>locations</td>\n",
       "      <td>0</td>\n",
       "    </tr>\n",
       "    <tr>\n",
       "      <th>6</th>\n",
       "      <td>owners</td>\n",
       "      <td>0</td>\n",
       "    </tr>\n",
       "    <tr>\n",
       "      <th>7</th>\n",
       "      <td>fire_sizes</td>\n",
       "      <td>0</td>\n",
       "    </tr>\n",
       "    <tr>\n",
       "      <th>8</th>\n",
       "      <td>dates</td>\n",
       "      <td>0</td>\n",
       "    </tr>\n",
       "    <tr>\n",
       "      <th>9</th>\n",
       "      <td>fire_names</td>\n",
       "      <td>0</td>\n",
       "    </tr>\n",
       "    <tr>\n",
       "      <th>10</th>\n",
       "      <td>reporters</td>\n",
       "      <td>0</td>\n",
       "    </tr>\n",
       "  </tbody>\n",
       "</table>\n",
       "</div>"
      ],
      "text/plain": [
       "       table_name  count\n",
       "0         sources      0\n",
       "1      fires_fact      0\n",
       "2   weather_types      0\n",
       "3    weather_fact      0\n",
       "4     fire_causes      0\n",
       "5       locations      0\n",
       "6          owners      0\n",
       "7      fire_sizes      0\n",
       "8           dates      0\n",
       "9      fire_names      0\n",
       "10      reporters      0"
      ]
     },
     "execution_count": 34,
     "metadata": {},
     "output_type": "execute_result"
    }
   ],
   "source": [
    "pd.read_sql(\"\"\"\n",
    "SELECT 'sources' AS table_name, count(*) AS count FROM capstone.sources where source_id IS NULL\n",
    "    UNION\n",
    "SELECT 'reporters' AS table_name, count(*) as count FROM capstone.reporters where reporter_id IS NULL\n",
    "    UNION\n",
    "SELECT 'fire_causes' AS table_name, count(*) as count FROM capstone.fire_causes where fire_cause_id IS NULL\n",
    "    UNION\n",
    "SELECT 'fire_names' AS table_name, count(*) as count FROM capstone.fire_names where fire_name_id IS NULL\n",
    "    UNION\n",
    "SELECT 'fire_sizes' AS table_name, count(*) as count FROM capstone.fire_sizes where fire_size_id IS NULL\n",
    "    UNION\n",
    "SELECT 'locations' AS table_name, count(*) as count FROM capstone.locations where location_id IS NULL    \n",
    "    UNION\n",
    "SELECT 'owners' AS table_name, count(*) as count FROM capstone.owners where owner_id IS NULL \n",
    "    UNION\n",
    "SELECT 'dates' AS table_name, count(*) as count FROM capstone.dates where date_dim_id IS NULL\n",
    "    UNION\n",
    "SELECT 'weather_types' AS table_name, count(*) as count FROM capstone.weather_types where weather_type_id IS NULL\n",
    "    UNION\n",
    "SELECT 'weather_fact' AS table_name, count(*) as count FROM capstone.weather_fact where weather_outlier_id IS NULL\n",
    "    UNION\n",
    "SELECT 'fires_fact' AS table_name, count(*) as count FROM capstone.fires_fact where fire_id IS NULL\n",
    "\"\"\", conn_athena)"
   ]
  },
  {
   "cell_type": "code",
   "execution_count": 30,
   "metadata": {},
   "outputs": [
    {
     "data": {
      "text/html": [
       "<div>\n",
       "<style scoped>\n",
       "    .dataframe tbody tr th:only-of-type {\n",
       "        vertical-align: middle;\n",
       "    }\n",
       "\n",
       "    .dataframe tbody tr th {\n",
       "        vertical-align: top;\n",
       "    }\n",
       "\n",
       "    .dataframe thead th {\n",
       "        text-align: right;\n",
       "    }\n",
       "</style>\n",
       "<table border=\"1\" class=\"dataframe\">\n",
       "  <thead>\n",
       "    <tr style=\"text-align: right;\">\n",
       "      <th></th>\n",
       "      <th>table_name</th>\n",
       "      <th>count</th>\n",
       "    </tr>\n",
       "  </thead>\n",
       "  <tbody>\n",
       "    <tr>\n",
       "      <th>0</th>\n",
       "      <td>fires_fact</td>\n",
       "      <td>1880465</td>\n",
       "    </tr>\n",
       "    <tr>\n",
       "      <th>1</th>\n",
       "      <td>weather_fact</td>\n",
       "      <td>1352248</td>\n",
       "    </tr>\n",
       "  </tbody>\n",
       "</table>\n",
       "</div>"
      ],
      "text/plain": [
       "     table_name    count\n",
       "0    fires_fact  1880465\n",
       "1  weather_fact  1352248"
      ]
     },
     "execution_count": 30,
     "metadata": {},
     "output_type": "execute_result"
    }
   ],
   "source": [
    "pd.read_sql(\"\"\"\n",
    "SELECT 'fires_fact' AS table_name, count(*) AS count FROM capstone.fires_fact\n",
    "UNION\n",
    "SELECT 'weather_fact' AS table_name, count(*) AS count FROM capstone.weather_fact\n",
    "\"\"\", conn_athena)"
   ]
  }
 ],
 "metadata": {
  "kernelspec": {
   "display_name": "Python 3",
   "language": "python",
   "name": "python3"
  },
  "language_info": {
   "codemirror_mode": {
    "name": "ipython",
    "version": 3
   },
   "file_extension": ".py",
   "mimetype": "text/x-python",
   "name": "python",
   "nbconvert_exporter": "python",
   "pygments_lexer": "ipython3",
   "version": "3.6.4"
  }
 },
 "nbformat": 4,
 "nbformat_minor": 2
}
